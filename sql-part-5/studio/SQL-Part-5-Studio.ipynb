{
 "cells": [
  {
   "cell_type": "markdown",
   "metadata": {},
   "source": [
    "# SQL Part 5 Studio:  A Library Service\n",
    "\n",
    "## Setting Up Your Data\n",
    "\n",
    "You will be creating 5 new tables within your own schema.\n",
    "\n",
    "4 of the tables can be populated using the starter code which can be found in the `data` folder.\n",
    "\n",
    "After setting up the data you should have the following five tables:\n",
    "\n",
    "1. `book`\n",
    "2. `author`\n",
    "3. `patron`\n",
    "4. `genre`\n",
    "5. `loan`"
   ]
  },
  {
   "cell_type": "markdown",
   "metadata": {},
   "source": [
    "## **Part A: Setting Up Your Tables**\n",
    "\n",
    "### **Book Table**\n",
    "\n",
    "To create the **book** table, you can use the following SQL query:\n",
    "\n",
    "```\n",
    "CREATE TABLE [DB].[schema].book (\n",
    "    book_id INT IDENTITY(1,1) PRIMARY KEY,\n",
    "    author_id INT,\n",
    "    title VARCHAR(255),\n",
    "    isbn INT,\n",
    "    available BIT,\n",
    "    genre_id INT\n",
    ");\n",
    "```\n",
    "\n",
    "_A few notes on this syntax:_\n",
    "\n",
    "> On Auto-incrementing:\n",
    "> We are going to have SQL help us assign book\\\\_id numbers using auto-incrementing using the **IDENTITY** property.\n",
    "> The [IDENTITY](https://docs.microsoft.com/en-us/sql/t-sql/statements/create-table-transact-sql-identity-property?view=sql-server-ver15) syntax is as follows: **IDENTITY(seed, increment)**.  We want to seed the first id number as 1 in this table and increment by 1 for each following book\\\\_id.\n",
    "> On BIT datatypes:\n",
    "> For the **available** column, we are going to use the [BIT datatype](https://docs.microsoft.com/en-us/sql/t-sql/data-types/bit-transact-sql?view=sql-server-ver15) to represent True or False values.  Bit allows three entries: 0 which will stand for false,  1 which will stand for true,  and NULL.\n",
    "> On CREATE TABLES:\n",
    "> You may only create a table once.  You may comment out your creation query once you run it."
   ]
  },
  {
   "cell_type": "code",
   "execution_count": null,
   "metadata": {
    "vscode": {
     "languageId": "sql"
    }
   },
   "outputs": [],
   "source": [
    "-- Create the book table here.  Update the name of the database and schema.\n",
    "CREATE TABLE [Sep2025JunkDB].[melanie_harbaugh].book (\n",
    "    book_id INT IDENTITY(1,1) PRIMARY KEY,\n",
    "    author_id INT,\n",
    "    title VARCHAR(255),\n",
    "    isbn INT,\n",
    "    available BIT,\n",
    "    genre_id INT\n",
    ")"
   ]
  },
  {
   "cell_type": "markdown",
   "metadata": {},
   "source": [
    "### Populate the **book** table\n",
    "\n",
    "For the starter data, use the `book_data.ipynb` notebook.\n",
    "\n",
    "> You may copy/paste the commands into the next code block.  You will need to update each INSERT statement to contain the names of your database and schema."
   ]
  },
  {
   "cell_type": "code",
   "execution_count": null,
   "metadata": {
    "vscode": {
     "languageId": "sql"
    }
   },
   "outputs": [],
   "source": [
    "-- Paste the book data values in this code box.  Be sure to update database and schema names.\n",
    "INSERT INTO [Sep2025JunkDB].[melanie_harbaugh].book(author_id, title, isbn, available, genre_id)\n",
    "VALUES (2, 'A Midsummers Night Dream', 978149413, 1, 23)\n",
    "\n",
    "INSERT INTO [Sep2025JunkDB].[melanie_harbaugh].book(author_id, title, isbn, available, genre_id)\n",
    "VALUES (2, 'Romeo and Juliet', 988535196, 1, 3);\n",
    "\n",
    "INSERT INTO [Sep2025JunkDB].[melanie_harbaugh].book(author_id, title, isbn, available, genre_id)\n",
    "VALUES (1, 'The Golden Compass', 451664226, 1, 1);\n",
    "\n",
    "INSERT INTO [Sep2025JunkDB].[melanie_harbaugh].book(author_id, title, isbn, available, genre_id)\n",
    "VALUES (1, 'The Subtle Knife', 160419390, 1, 1);\n",
    "\n",
    "INSERT INTO [Sep2025JunkDB].[melanie_harbaugh].book(author_id, title, isbn, available, genre_id)\n",
    "VALUES (1, 'The Amber Spyglass', 94387895, 1, 1);\n"
   ]
  },
  {
   "cell_type": "markdown",
   "metadata": {},
   "source": [
    "### Test your data\n",
    "                \n",
    "Run a quick query of your choice to see if the book table was properly created"
   ]
  },
  {
   "cell_type": "code",
   "execution_count": null,
   "metadata": {
    "vscode": {
     "languageId": "sql"
    }
   },
   "outputs": [],
   "source": [
    "-- test your book table here.\n",
    "SELECT *\n",
    "FROM melanie_harbaugh.book "
   ]
  },
  {
   "cell_type": "markdown",
   "metadata": {},
   "source": [
    "We will repeat a similar process for the **author, patron,** and **genre** tables. \n",
    "                \n",
    "### **Author Table**\n",
    "\n",
    "To create the **author** table, you will use the following code:\n",
    "\n",
    "```\n",
    "CREATE TABLE [DB].[schema].author (\n",
    "    author_id INT IDENTITY(1,1), PRIMARY KEY\n",
    "    first_name VARCHAR(255),\n",
    "    last_name VARCHAR(255),\n",
    "    birth_year INT,\n",
    "    death_year INT\n",
    ");\n",
    "```"
   ]
  },
  {
   "cell_type": "code",
   "execution_count": null,
   "metadata": {
    "vscode": {
     "languageId": "sql"
    }
   },
   "outputs": [],
   "source": [
    "-- create the author table here:\n",
    "CREATE TABLE [Sep2025JunkDB].[melanie_harbaugh].author (\n",
    "    author_id INT IDENTITY(1,1) PRIMARY KEY,\n",
    "    first_name VARCHAR(255),\n",
    "    last_name VARCHAR(255),\n",
    "    birth_year INT,\n",
    "    death_year INT\n",
    ")"
   ]
  },
  {
   "cell_type": "markdown",
   "metadata": {},
   "source": [
    "Populate the **author** table with the `author_data.ipynb` notebook."
   ]
  },
  {
   "cell_type": "code",
   "execution_count": null,
   "metadata": {
    "vscode": {
     "languageId": "sql"
    }
   },
   "outputs": [],
   "source": [
    "-- paste the author data values in this code block.\n",
    "INSERT INTO [Sep2025JunkDB].[melanie_harbaugh].author(first_name, last_name, birth_year, death_year)\n",
    "VALUES ('Phillip', 'Pullman', 1946, null);\n",
    "\n",
    "INSERT INTO [Sep2025JunkDB].[melanie_harbaugh].author(first_name, last_name, birth_year, death_year)\n",
    "VALUES ('William', 'Shakespeare', 1564, 1616);\n",
    "\n",
    "INSERT INTO [Sep2025JunkDB].[melanie_harbaugh].author(first_name, last_name, birth_year, death_year)\n",
    "VALUES ('Paulo', 'Coelho', 1947, null);\n",
    "\n",
    "INSERT INTO [Sep2025JunkDB].[melanie_harbaugh].author(first_name, last_name, birth_year, death_year)\n",
    "VALUES ('Agatha', 'Christie', 1890-09-15, 1976-01-12);\n",
    "\n",
    "INSERT INTO [Sep2025JunkDB].[melanie_harbaugh].author(first_name, last_name, birth_year, death_year)\n",
    "VALUES ('Amy', 'Tan', 1952-02-19, null);\n",
    "\n",
    "INSERT INTO [Sep2025JunkDB].[melanie_harbaugh].author(first_name, last_name, birth_year, death_year)\n",
    "VALUES ('Jane', 'Austin', 1775-12-16, 1817-07-18);\n",
    "\n",
    "INSERT INTO [Sep2025JunkDB].[melanie_harbaugh].author(first_name, last_name, birth_year, death_year)\n",
    "VALUES ('Emily', 'Bronte', 1818-07-30, 1848-12-19);\n",
    "\n",
    "INSERT INTO [Sep2025JunkDB].[melanie_harbaugh].author(first_name, last_name, birth_year, death_year)\n",
    "VALUES ('Margaret', 'Atwood', 1939-11-18, null);\n",
    "\n",
    "INSERT INTO [Sep2025JunkDB].[melanie_harbaugh].author(first_name, last_name, birth_year, death_year)\n",
    "VALUES ('Octavia', 'Butler', 1947-06-22, 2006-02-24);\n",
    "\n",
    "INSERT INTO [Sep2025JunkDB].[melanie_harbaugh].author(first_name, last_name, birth_year, death_year)\n",
    "VALUES ('Louisa May', 'Alcott', 1832-11-29, 1888-03-06);\n",
    "\n",
    "INSERT INTO [Sep2025JunkDB].[melanie_harbaugh].author(first_name, last_name, birth_year, death_year)\n",
    "VALUES ('Louise', 'Penny', 1958-07-01, null);\n",
    "\n",
    "INSERT INTO [Sep2025JunkDB].[melanie_harbaugh].author(first_name, last_name, birth_year, death_year)\n",
    "VALUES ('Salman', 'Rushdie', 1947-08-19, null);\n",
    "\n",
    "INSERT INTO [Sep2025JunkDB].[melanie_harbaugh].author(first_name, last_name, birth_year, death_year)\n",
    "VALUES ('Mo', 'Willems', 1968-02-11, null);\n",
    "\n",
    "INSERT INTO [Sep2025JunkDB].[melanie_harbaugh].author(first_name, last_name, birth_year, death_year)\n",
    "VALUES ('Beverly', 'Cleary', 1916-04-12, null);\n",
    "\n",
    "INSERT INTO [Sep2025JunkDB].[melanie_harbaugh].author(first_name, last_name, birth_year, death_year)\n",
    "VALUES ('Peter', 'Vollhardt', 1946-03-07, null);\n",
    "\n",
    "INSERT INTO [Sep2025JunkDB].[melanie_harbaugh].author(first_name, last_name, birth_year, death_year)\n",
    "VALUES ('Maya', 'Angelou', 1928-04-04, 2014-05-28);\n",
    "\n",
    "INSERT INTO [Sep2025JunkDB].[melanie_harbaugh].author(first_name, last_name, birth_year, death_year)\n",
    "VALUES ('Toni', 'Morrison', 1931-02-18, 2019-08-05);\n",
    "\n",
    "INSERT INTO [Sep2025JunkDB].[melanie_harbaugh].author(first_name, last_name, birth_year, death_year)\n",
    "VALUES ('Shirley', 'LeFlore', 1940-03-06, 2019-05-12)"
   ]
  },
  {
   "cell_type": "markdown",
   "metadata": {},
   "source": [
    "### **Patron Table**\n",
    "\n",
    "To create the **patron**, you will use the following code:\n",
    "\n",
    "```\n",
    "CREATE TABLE [DB].[schema].patron (\n",
    "    patron_id INT IDENTITY (1,1) PRIMARY KEY,\n",
    "    first_name VARCHAR(255),\n",
    "    last_name VARCHAR(255),\n",
    "    loan_id INT\n",
    ");\n",
    "```"
   ]
  },
  {
   "cell_type": "code",
   "execution_count": null,
   "metadata": {
    "vscode": {
     "languageId": "sql"
    }
   },
   "outputs": [],
   "source": [
    "-- create the patron table here:\n",
    "CREATE TABLE [Sep2025JunkDB].[melanie_harbaugh].patron (\n",
    "    patron_id INT IDENTITY (1,1) PRIMARY KEY,\n",
    "    first_name VARCHAR(255),\n",
    "    last_name VARCHAR(255),\n",
    "    loan_id INT\n",
    ")"
   ]
  },
  {
   "cell_type": "markdown",
   "metadata": {},
   "source": [
    "Populate the **patron** table with the `patron_data.ipynb` notebook."
   ]
  },
  {
   "cell_type": "code",
   "execution_count": null,
   "metadata": {
    "vscode": {
     "languageId": "sql"
    }
   },
   "outputs": [],
   "source": [
    "-- insert patron data into the table here.\n",
    "INSERT INTO [Sep2025JunkDB].[melanie_harbaugh].patron(first_name, last_name, loan_id)\n",
    "VALUES ('Jennifer', 'Slayny', NULL);\n",
    "\n",
    "INSERT INTO [Sep2025JunkDB].[melanie_harbaugh].patron(first_name, last_name, loan_id)\n",
    "VALUES ('Susan', 'Traviss', NULL);\n",
    "\n",
    "INSERT INTO [Sep2025JunkDB].[melanie_harbaugh].patron(first_name, last_name, loan_id)\n",
    "VALUES ('Vincent', 'Ritelli', NULL);\n",
    "\n",
    "INSERT INTO [Sep2025JunkDB].[melanie_harbaugh].patron(first_name, last_name, loan_id)\n",
    "VALUES ('Tasia', 'Laybourne', NULL);\n",
    "\n",
    "INSERT INTO [Sep2025JunkDB].[melanie_harbaugh].patron(first_name, last_name, loan_id)\n",
    "VALUES ('Wren', 'Gergler', NULL);\n",
    "\n",
    "INSERT INTO [Sep2025JunkDB].[melanie_harbaugh].patron(first_name, last_name, loan_id)\n",
    "VALUES ('Tory', 'Lees', NULL);\n",
    "\n",
    "INSERT INTO [Sep2025JunkDB].[melanie_harbaugh].patron(first_name, last_name, loan_id)\n",
    "VALUES ('Estelle', 'Di Lorio', NULL);\n",
    "\n",
    "INSERT INTO [Sep2025JunkDB].[melanie_harbaugh].patron(first_name, last_name, loan_id)\n",
    "VALUES ('Dorian', 'Betje', NULL);\n",
    "\n",
    "INSERT INTO [Sep2025JunkDB].[melanie_harbaugh].patron(first_name, last_name, loan_id)\n",
    "VALUES ('Frank', 'Jelk', NULL);\n",
    "\n",
    "INSERT INTO [Sep2025JunkDB].[melanie_harbaugh].patron(first_name, last_name, loan_id)\n",
    "VALUES ('Chris', 'Endon', NULL);\n",
    "\n",
    "INSERT INTO [Sep2025JunkDB].[melanie_harbaugh].patron(first_name, last_name, loan_id)\n",
    "VALUES ('Gillie', 'Fritz', NULL);\n",
    "\n",
    "INSERT INTO [Sep2025JunkDB].[melanie_harbaugh].patron(first_name, last_name, loan_id)\n",
    "VALUES ('Leisha', 'Defty', NULL);\n",
    "\n",
    "INSERT INTO [Sep2025JunkDB].[melanie_harbaugh].patron(first_name, last_name, loan_id)\n",
    "VALUES ('Erika', 'Bompass', NULL);\n",
    "\n",
    "INSERT INTO [Sep2025JunkDB].[melanie_harbaugh].patron(first_name, last_name, loan_id)\n",
    "VALUES ('Gabe', 'Moxstead', NULL);\n",
    "\n",
    "INSERT INTO [Sep2025JunkDB].[melanie_harbaugh].patron(first_name, last_name, loan_id)\n",
    "VALUES ('Blake', 'Teresse', NULL);\n",
    "\n",
    "INSERT INTO [Sep2025JunkDB].[melanie_harbaugh].patron(first_name, last_name, loan_id)\n",
    "VALUES ('Joshua', 'Timmouth', NULL);\n",
    "\n",
    "INSERT INTO [Sep2025JunkDB].[melanie_harbaugh].patron(first_name, last_name, loan_id)\n",
    "VALUES ('Tasha', 'Timmouth', NULL);\n",
    "\n",
    "INSERT INTO [Sep2025JunkDB].[melanie_harbaugh].patron(first_name, last_name, loan_id)\n",
    "VALUES ('Neil', 'Davie', NULL);\n",
    "\n",
    "INSERT INTO [Sep2025JunkDB].[melanie_harbaugh].patron(first_name, last_name, loan_id)\n",
    "VALUES ('Emmeline', 'Pitherick', NULL);\n",
    "\n",
    "INSERT INTO [Sep2025JunkDB].[melanie_harbaugh].patron(first_name, last_name, loan_id)\n",
    "VALUES ('Josiah', 'Staner', NULL);\n",
    "\n",
    "INSERT INTO [Sep2025JunkDB].[melanie_harbaugh].patron(first_name, last_name, loan_id)\n",
    "VALUES ('James', 'Greetham', NULL);\n",
    "\n",
    "INSERT INTO [Sep2025JunkDB].[melanie_harbaugh].patron(first_name, last_name, loan_id)\n",
    "VALUES ('Isaac', 'Barstowk', NULL);\n",
    "\n",
    "INSERT INTO [Sep2025JunkDB].[melanie_harbaugh].patron(first_name, last_name, loan_id)\n",
    "VALUES ('Dean', 'Nelane', NULL);\n",
    "\n",
    "INSERT INTO [Sep2025JunkDB].[melanie_harbaugh].patron(first_name, last_name, loan_id)\n",
    "VALUES ('Carolina', 'Cranmere', NULL);\n",
    "\n",
    "INSERT INTO [Sep2025JunkDB].[melanie_harbaugh].patron(first_name, last_name, loan_id)\n",
    "VALUES ('Champ', 'Lardiner', NULL);\n",
    "\n",
    "INSERT INTO [Sep2025JunkDB].[melanie_harbaugh].patron(first_name, last_name, loan_id)\n",
    "VALUES ('Abbie', 'Quaif', NULL);\n",
    "\n",
    "INSERT INTO [Sep2025JunkDB].[melanie_harbaugh].patron(first_name, last_name, loan_id)\n",
    "VALUES ('Camile', 'Milbourne', NULL);\n",
    "\n",
    "INSERT INTO [Sep2025JunkDB].[melanie_harbaugh].patron(first_name, last_name, loan_id)\n",
    "VALUES ('Quentin', 'Crose', NULL);\n",
    "\n",
    "INSERT INTO [Sep2025JunkDB].[melanie_harbaugh].patron(first_name, last_name, loan_id)\n",
    "VALUES ('Silvano', 'Horlick', NULL);\n",
    "\n",
    "INSERT INTO [Sep2025JunkDB].[melanie_harbaugh].patron(first_name, last_name, loan_id)\n",
    "VALUES ('Phyllis', 'Cicchillo', NULL);\n",
    "\n",
    "INSERT INTO [Sep2025JunkDB].[melanie_harbaugh].patron(first_name, last_name, loan_id)\n",
    "VALUES ('Jerrie', 'Brownhall', NULL);\n",
    "\n",
    "INSERT INTO [Sep2025JunkDB].[melanie_harbaugh].patron(first_name, last_name, loan_id)\n",
    "VALUES ('Ludovika', 'Leist', NULL);\n",
    "\n",
    "INSERT INTO [Sep2025JunkDB].[melanie_harbaugh].patron(first_name, last_name, loan_id)\n",
    "VALUES ('Tara', 'Knatt', NULL);\n",
    "\n",
    "INSERT INTO [Sep2025JunkDB].[melanie_harbaugh].patron(first_name, last_name, loan_id)\n",
    "VALUES ('Kelsie', 'Parkson', NULL);\n",
    "\n",
    "INSERT INTO [Sep2025JunkDB].[melanie_harbaugh].patron(first_name, last_name, loan_id)\n",
    "VALUES ('Jodi', 'Leopard', NULL);\n",
    "\n",
    "INSERT INTO [Sep2025JunkDB].[melanie_harbaugh].patron(first_name, last_name, loan_id)\n",
    "VALUES ('Rosanna', 'Cultcheth', NULL);\n",
    "\n",
    "INSERT INTO [Sep2025JunkDB].[melanie_harbaugh].patron(first_name, last_name, loan_id)\n",
    "VALUES ('Remy', 'Fairpool', NULL);\n",
    "\n",
    "INSERT INTO [Sep2025JunkDB].[melanie_harbaugh].patron(first_name, last_name, loan_id)\n",
    "VALUES ('Megan', 'Blyth', NULL);\n",
    "\n",
    "INSERT INTO [Sep2025JunkDB].[melanie_harbaugh].patron(first_name, last_name, loan_id)\n",
    "VALUES ('Rikki', 'McLernon', NULL);\n",
    "\n",
    "INSERT INTO [Sep2025JunkDB].[melanie_harbaugh].patron(first_name, last_name, loan_id)\n",
    "VALUES ('Clare', 'Haacker', NULL);\n",
    "\n",
    "INSERT INTO [Sep2025JunkDB].[melanie_harbaugh].patron(first_name, last_name, loan_id)\n",
    "VALUES ('Vincent', 'Chettle', NULL);\n",
    "\n",
    "INSERT INTO [Sep2025JunkDB].[melanie_harbaugh].patron(first_name, last_name, loan_id)\n",
    "VALUES ('Sybil', 'Costanza', NULL);\n",
    "\n",
    "INSERT INTO [Sep2025JunkDB].[melanie_harbaugh].patron(first_name, last_name, loan_id)\n",
    "VALUES ('Jonas', 'Sinclare', NULL);\n",
    "\n",
    "INSERT INTO [Sep2025JunkDB].[melanie_harbaugh].patron(first_name, last_name, loan_id)\n",
    "VALUES ('Claire', 'Bendel', NULL);\n",
    "\n",
    "INSERT INTO [Sep2025JunkDB].[melanie_harbaugh].patron(first_name, last_name, loan_id)\n",
    "VALUES ('Kathleen', 'Welband', NULL);\n",
    "\n",
    "INSERT INTO [Sep2025JunkDB].[melanie_harbaugh].patron(first_name, last_name, loan_id)\n",
    "VALUES ('Kylie', 'Crannage', NULL);\n",
    "\n",
    "INSERT INTO [Sep2025JunkDB].[melanie_harbaugh].patron(first_name, last_name, loan_id)\n",
    "VALUES ('Evelyn', 'Tarajo', NULL);\n",
    "\n",
    "INSERT INTO [Sep2025JunkDB].[melanie_harbaugh].patron(first_name, last_name, loan_id)\n",
    "VALUES ('Oliver', 'Caulson', NULL);"
   ]
  },
  {
   "cell_type": "markdown",
   "metadata": {},
   "source": [
    "### **Genre Table**\n",
    "\n",
    "To create the **genre** table, use the following code:\n",
    "\n",
    "```\n",
    "CREATE TABLE [DB].[schema].genre (\n",
    "    genre_id INT PRIMARY KEY,\n",
    "    genres VARCHAR(100)\n",
    ");\n",
    "```"
   ]
  },
  {
   "cell_type": "code",
   "execution_count": null,
   "metadata": {
    "vscode": {
     "languageId": "sql"
    }
   },
   "outputs": [],
   "source": [
    "-- create genre table here.\n",
    "CREATE TABLE [Sep2025JunkDB].[melanie_harbaugh].genre (\n",
    "    genre_id INT PRIMARY KEY,\n",
    "    genres VARCHAR(100)\n",
    ")"
   ]
  },
  {
   "cell_type": "markdown",
   "metadata": {},
   "source": [
    "Populate the **genre** table with the `genre_data.ipynb` notebook."
   ]
  },
  {
   "cell_type": "code",
   "execution_count": null,
   "metadata": {
    "vscode": {
     "languageId": "sql"
    }
   },
   "outputs": [],
   "source": [
    "-- insert the genre data into the table here.\n",
    "-- populating genre table\n",
    "INSERT INTO [Sep2025JunkDB].[melanie_harbaugh].genre(genre_id, genres)\n",
    "VALUES (1, 'Fantasy');\n",
    "\n",
    "INSERT INTO [Sep2025JunkDB].[melanie_harbaugh].genre(genre_id, genres)\n",
    "VALUES (2, 'Adventure');\n",
    "\n",
    "INSERT INTO [Sep2025JunkDB].[melanie_harbaugh].genre(genre_id, genres)\n",
    "VALUES (3, 'Romance');\n",
    "\n",
    "INSERT INTO [Sep2025JunkDB].[melanie_harbaugh].genre(genre_id, genres)\n",
    "VALUES (4, 'Contemporary');\n",
    "\n",
    "INSERT INTO [Sep2025JunkDB].[melanie_harbaugh].genre(genre_id, genres)\n",
    "VALUES (5, 'Dystopian');\n",
    "\n",
    "INSERT INTO [Sep2025JunkDB].[melanie_harbaugh].genre(genre_id, genres)\n",
    "VALUES (6, 'Mystery');\n",
    "\n",
    "INSERT INTO [Sep2025JunkDB].[melanie_harbaugh].genre(genre_id, genres)\n",
    "VALUES (7, 'Horror');\n",
    "\n",
    "INSERT INTO [Sep2025JunkDB].[melanie_harbaugh].genre(genre_id, genres)\n",
    "VALUES (8, 'Thriller');\n",
    "\n",
    "INSERT INTO [Sep2025JunkDB].[melanie_harbaugh].genre(genre_id, genres)\n",
    "VALUES (9, 'Paranormal');\n",
    "\n",
    "INSERT INTO [Sep2025JunkDB].[melanie_harbaugh].genre(genre_id, genres)\n",
    "VALUES (10, 'Historical Fiction');\n",
    "\n",
    "INSERT INTO [Sep2025JunkDB].[melanie_harbaugh].genre(genre_id, genres)\n",
    "VALUES (11, 'Science Fiction');\n",
    "\n",
    "INSERT INTO [Sep2025JunkDB].[melanie_harbaugh].genre(genre_id, genres)\n",
    "VALUES (12, 'Memoir');\n",
    "\n",
    "INSERT INTO [Sep2025JunkDB].[melanie_harbaugh].genre(genre_id, genres)\n",
    "VALUES (13, 'Cooking');\n",
    "\n",
    "INSERT INTO [Sep2025JunkDB].[melanie_harbaugh].genre(genre_id, genres)\n",
    "VALUES (14, 'Art');\n",
    "\n",
    "INSERT INTO [Sep2025JunkDB].[melanie_harbaugh].genre(genre_id, genres)\n",
    "VALUES (15, 'Self-Help');\n",
    "\n",
    "INSERT INTO [Sep2025JunkDB].[melanie_harbaugh].genre(genre_id, genres)\n",
    "VALUES (16, 'Development');\n",
    "\n",
    "INSERT INTO [Sep2025JunkDB].[melanie_harbaugh].genre(genre_id, genres)\n",
    "VALUES (17, 'Motivational');\n",
    "\n",
    "INSERT INTO [Sep2025JunkDB].[melanie_harbaugh].genre(genre_id, genres)\n",
    "VALUES (18, 'Health');\n",
    "\n",
    "INSERT INTO [Sep2025JunkDB].[melanie_harbaugh].genre(genre_id, genres)\n",
    "VALUES (19, 'History');\n",
    "\n",
    "INSERT INTO [Sep2025JunkDB].[melanie_harbaugh].genre(genre_id, genres)\n",
    "VALUES (20, 'Travel');\n",
    "\n",
    "INSERT INTO [Sep2025JunkDB].[melanie_harbaugh].genre(genre_id, genres)\n",
    "VALUES (21, 'Guide');\n",
    "\n",
    "INSERT INTO [Sep2025JunkDB].[melanie_harbaugh].genre(genre_id, genres)\n",
    "VALUES (22, 'Families and Relationships');\n",
    "\n",
    "INSERT INTO [Sep2025JunkDB].[melanie_harbaugh].genre(genre_id, genres)\n",
    "VALUES (23, 'Humor');\n",
    "\n",
    "INSERT INTO [Sep2025JunkDB].[melanie_harbaugh].genre(genre_id, genres)\n",
    "VALUES (24, 'Childrens');\n",
    "\n",
    "INSERT INTO [Sep2025JunkDB].[melanie_harbaugh].genre(genre_id, genres)\n",
    "VALUES (25, 'Reference');\n",
    "\n",
    "INSERT INTO [Sep2025JunkDB].[melanie_harbaugh].genre(genre_id, genres)\n",
    "VALUES (26, 'Poetry');"
   ]
  },
  {
   "cell_type": "markdown",
   "metadata": {},
   "source": [
    "### **Loan Table**\n",
    "\n",
    "The **loan** table will be created differently and will stay empty.  We will use our other tables to populate the loan table using queries shortly. \n",
    "\n",
    "Use the following code to create the **loan** table:\n",
    "\n",
    "```\n",
    "CREATE TABLE [DB].[schema].loan (\n",
    "    loan_id INT IDENTITY(1,1) PRIMARY KEY,\n",
    "    patron_id INT,\n",
    "    date_out DATE,\n",
    "    date_in DATE,\n",
    "    book_id INT\n",
    "    CONSTRAINT book_id FOREIGN KEY (book_id) REFERENCES [DB].[schema].book (book_id)\n",
    "        ON UPDATE SET NULL\n",
    "        ON DELETE SET NULL\n",
    ");\n",
    "```\n",
    "\n",
    "_Notes about the syntax:_\n",
    "\n",
    "> We are adding a [foreign key](https://www.w3schools.com/sql/sql_foreignkey.asp) to this table to reference a different table's primary key.  In this studio, we are going to link the **loan** table to the **book** table using keys.  The **loan** table will reference and add book id numbers based on the **book** table's `book_id`.  We are also providing [constraints](https://www.w3schools.com/sql/sql_constraints.asp) to be very specific about what type of data is allowed in this column."
   ]
  },
  {
   "cell_type": "code",
   "execution_count": null,
   "metadata": {
    "vscode": {
     "languageId": "sql"
    }
   },
   "outputs": [],
   "source": [
    "-- Code the loan table.\n",
    "-- Note that you will need to update the first and seventh lines with your database and schema info.\n",
    "CREATE TABLE [Sep2025JunkDB].[melanie_harbaugh].loan (\n",
    "    loan_id INT IDENTITY(1,1) PRIMARY KEY,\n",
    "    patron_id INT,\n",
    "    date_out DATE,\n",
    "    date_in DATE,\n",
    "    book_id INT\n",
    "    CONSTRAINT book_id FOREIGN KEY (book_id) REFERENCES [Sep2025JunkDB].[melanie_harbaugh].book (book_id)\n",
    "        ON UPDATE SET NULL\n",
    "        ON DELETE SET NULL\n",
    ")"
   ]
  },
  {
   "cell_type": "markdown",
   "metadata": {},
   "source": [
    "## **Part B: Warm-Up Queries**\n",
    "\n",
    "Write the following queries to get warmed up and make sure your tables have populated appropriately.\n",
    "\n",
    "1. Return the mystery book titles and their ISBNs.\n",
    "2. Return all of the titles and the author's first and last names for books written by authors who are currently living."
   ]
  },
  {
   "cell_type": "code",
   "execution_count": null,
   "metadata": {
    "vscode": {
     "languageId": "sql"
    }
   },
   "outputs": [],
   "source": [
    "-- Code your warm ups here:\n",
    "SELECT title, isbn\n",
    "FROM Sep2025JunkDB.melanie_harbaugh.book\n",
    "WHERE genre_id = 6\n",
    "\n",
    "SELECT title, first_name, last_name FROM Sep2025JunkDB.matthew_heckman.book AS book\n",
    "INNER JOIN Sep2025JunkDB.matthew_heckman.author AS author ON book.author_id = author.author_id\n",
    "WHERE author.death_year IS NULL"
   ]
  },
  {
   "cell_type": "markdown",
   "metadata": {},
   "source": [
    "## **Part C: Loan Out a Book**\n",
    "                \n",
    "The library would like you to create a query that will update the database when a book is loaned out.\n",
    "\n",
    "This query needs to perform the following functions:\n",
    "\n",
    "1. Change **available** to **0** (false) for the appropriate book.\n",
    "2. Add a new row to the **loan** table with today's date as the `date_out` and the ids in the row matching the appropriate `patron_id` and `book_id`.\n",
    "3. Update the appropriate **patron** with the `loan_id` for the new row created in the **loan** table.\n",
    "\n",
    "You can use any patron and book that strikes your fancy to create and test out this query.\n",
    "\n",
    "> _Note:  Every time you test this, you will add an additional row to the output, creating a new loan id each time.  If you do not update the patron id, then a patron will have multiple loan ids.  This is not an issue for Part C;_ _however, this may cause issues when you work on Part F._"
   ]
  },
  {
   "cell_type": "code",
   "execution_count": null,
   "metadata": {
    "vscode": {
     "languageId": "sql"
    }
   },
   "outputs": [],
   "source": [
    "-- Create your query that will loan out a book:\n",
    "UPDATE melanie_harbaugh.book\n",
    "SET available = 0\n",
    "WHERE title ='The Amber Spyglass' \n",
    "\n",
    "INSERT INTO melanie_harbaugh.loan (patron_id, date_out, date_in, book_id)\n",
    "VALUES (16, GETDATE(), NULL, 5)\n",
    "\n",
    "UPDATE melanie_harbaugh.patron  \n",
    "SET loan_id = 1\n",
    "WHERE patron_id = 16"
   ]
  },
  {
   "cell_type": "markdown",
   "metadata": {},
   "source": [
    "## **Part D: Check a Book Back In**\n",
    "\n",
    "Work with the same patron and book as you create your query to check a book back into the library.\n",
    "\n",
    "The check a book back in, your query need to do the following:\n",
    "\n",
    "1. Change **available** to **1** (true) for the appropriate book.\n",
    "2. Update the appropriate row in the **loan** table with today's date as the `date_in`.\n",
    "3. Update the appropriate **patron** changing `loan_id` back to `NULL`.\n",
    "\n",
    "Once you have created these queries, loan out 5 new books to 5 different patrons."
   ]
  },
  {
   "cell_type": "code",
   "execution_count": null,
   "metadata": {
    "vscode": {
     "languageId": "sql"
    }
   },
   "outputs": [],
   "source": [
    "-- Create your query to check a book back in."
   ]
  },
  {
   "cell_type": "markdown",
   "metadata": {},
   "source": [
    "## **Part E: Create a temp table**\n",
    "\n",
    "Write a query that returns a temporary table for a patron that shows them all of their loans.\n",
    "\n",
    "_Question to think about:_  Why might a temp table be a good option for this type of query?"
   ]
  },
  {
   "cell_type": "code",
   "execution_count": null,
   "metadata": {
    "vscode": {
     "languageId": "sql"
    }
   },
   "outputs": [],
   "source": [
    "-- Code your temp table here"
   ]
  },
  {
   "cell_type": "markdown",
   "metadata": {},
   "source": [
    "## **Part F: Wrap-up Query**\n",
    "\n",
    "Create a query that returns the names of the patrons with the genre of every book they currently have checked out.\n",
    "\n",
    "Things to consider:  How are these tables related and connected to each other?\n",
    "\n",
    "> _Note:  If you find a NULL in your output instead of a loan id, this is likely because there are multiple loans per patron.  Try_ _clearing out the loan table. You can do this by either dropping the entire table or clearing specific rows._"
   ]
  },
  {
   "cell_type": "code",
   "execution_count": null,
   "metadata": {
    "vscode": {
     "languageId": "sql"
    }
   },
   "outputs": [],
   "source": [
    "-- Create your wrap-up query here."
   ]
  },
  {
   "cell_type": "markdown",
   "metadata": {},
   "source": [
    "## **Bonus Challenge:**\n",
    "                \n",
    "This is an optional challenge.\n",
    "\n",
    "Create a new table for reference materials using the following code:\n",
    "\n",
    "```\n",
    "CREATE TABLE [DB].[schema].reference_books (\n",
    "    reference_id INT IDENTITY(1,1) PRIMARY KEY,\n",
    "    edition INT,\n",
    "    book_id INT,\n",
    "    book_id INT FOREIGN KEY REFERENCES [DB].[schema].book(book_id)\n",
    "        ON UPDATE SET NULL\n",
    "        ON DELETE SET NULL\n",
    ");\n",
    "```\n",
    "\n",
    "Fill the table with the following query:\n",
    "\n",
    "```\n",
    "INSERT INTO [DB].[schema].reference_books (edition, book_id)\n",
    "VALUE (5,32);\n",
    "```"
   ]
  },
  {
   "cell_type": "code",
   "execution_count": null,
   "metadata": {
    "vscode": {
     "languageId": "sql"
    }
   },
   "outputs": [],
   "source": [
    "-- Create and fill your reference table here."
   ]
  },
  {
   "cell_type": "markdown",
   "metadata": {},
   "source": [
    "A reference book cannot leave the library. How would you modify either the **reference_book** table or the **book** table to make sure that doesn't happen? Try to apply your modifications."
   ]
  },
  {
   "cell_type": "code",
   "execution_count": null,
   "metadata": {
    "vscode": {
     "languageId": "sql"
    }
   },
   "outputs": [],
   "source": [
    "-- Code your query here."
   ]
  }
 ],
 "metadata": {
  "language_info": {
   "name": "python"
  }
 },
 "nbformat": 4,
 "nbformat_minor": 2
}
